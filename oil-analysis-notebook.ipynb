{
 "cells": [
  {
   "cell_type": "code",
   "execution_count": 12,
   "metadata": {},
   "outputs": [],
   "source": [
    "import pandas as pd"
   ]
  },
  {
   "cell_type": "code",
   "execution_count": 22,
   "metadata": {},
   "outputs": [
    {
     "data": {
      "text/plain": [
       "Index(['year', 'month', 'originName', 'originTypeName', 'destinationName',\n",
       "       'destinationTypeName', 'gradeName', 'quantity'],\n",
       "      dtype='object')"
      ]
     },
     "execution_count": 22,
     "metadata": {},
     "output_type": "execute_result"
    }
   ],
   "source": [
    "df = pd.read_csv(\"data/data.csv\")\n",
    "df.columns"
   ]
  },
  {
   "cell_type": "code",
   "execution_count": 14,
   "metadata": {},
   "outputs": [
    {
     "data": {
      "text/plain": [
       "year                    int64\n",
       "month                   int64\n",
       "originName             object\n",
       "originTypeName         object\n",
       "destinationName        object\n",
       "destinationTypeName    object\n",
       "gradeName              object\n",
       "quantity                int64\n",
       "dtype: object"
      ]
     },
     "execution_count": 14,
     "metadata": {},
     "output_type": "execute_result"
    }
   ],
   "source": [
    "df.dtypes"
   ]
  },
  {
   "cell_type": "code",
   "execution_count": 15,
   "metadata": {},
   "outputs": [],
   "source": [
    "import re\n",
    "\n",
    "def contains_special_chars(text):\n",
    "    \"\"\"\n",
    "    Checks if a string contains any special characters (non-alphanumeric and not whitespace).\n",
    "    \"\"\"\n",
    "    return bool(re.search(r'[^a-zA-Z0-9\\s]', str(text)))\n",
    "\n",
    "def check_special_chars_in_column(df, column_name):\n",
    "  \"\"\"\n",
    "  Checks for special characters in a specified column of a pandas DataFrame.\n",
    "\n",
    "  Args:\n",
    "    df (pd.DataFrame): The input DataFrame.\n",
    "    column_name (str): The name of the column to check.\n",
    "\n",
    "  Returns:\n",
    "    pd.Series: A boolean Series indicating whether each row in the column contains special characters.\n",
    "  \"\"\"\n",
    "  return df[column_name].apply(contains_special_chars)"
   ]
  },
  {
   "cell_type": "code",
   "execution_count": 16,
   "metadata": {},
   "outputs": [],
   "source": [
    "has_special_chars_originName = check_special_chars_in_column(df, 'originName')"
   ]
  },
  {
   "cell_type": "code",
   "execution_count": 17,
   "metadata": {},
   "outputs": [
    {
     "data": {
      "text/plain": [
       "0         False\n",
       "1         False\n",
       "2         False\n",
       "3         False\n",
       "4         False\n",
       "          ...  \n",
       "483048    False\n",
       "483049    False\n",
       "483050    False\n",
       "483051    False\n",
       "483052    False\n",
       "Name: originTypeName, Length: 483053, dtype: bool"
      ]
     },
     "execution_count": 17,
     "metadata": {},
     "output_type": "execute_result"
    }
   ],
   "source": [
    "has_special_chars_originTypeName = check_special_chars_in_column(df, 'originTypeName')\n",
    "has_special_chars_originTypeName"
   ]
  },
  {
   "cell_type": "code",
   "execution_count": 18,
   "metadata": {},
   "outputs": [
    {
     "data": {
      "text/plain": [
       "0          True\n",
       "1          True\n",
       "2          True\n",
       "3          True\n",
       "4          True\n",
       "          ...  \n",
       "483048    False\n",
       "483049    False\n",
       "483050    False\n",
       "483051    False\n",
       "483052    False\n",
       "Name: destinationName, Length: 483053, dtype: bool"
      ]
     },
     "execution_count": 18,
     "metadata": {},
     "output_type": "execute_result"
    }
   ],
   "source": [
    "has_special_chars_destinationName = check_special_chars_in_column(df, 'destinationName')\n",
    "has_special_chars_destinationName"
   ]
  },
  {
   "cell_type": "code",
   "execution_count": 19,
   "metadata": {},
   "outputs": [
    {
     "data": {
      "text/plain": [
       "0         False\n",
       "1         False\n",
       "2         False\n",
       "3         False\n",
       "4         False\n",
       "          ...  \n",
       "483048    False\n",
       "483049    False\n",
       "483050    False\n",
       "483051    False\n",
       "483052    False\n",
       "Name: gradeName, Length: 483053, dtype: bool"
      ]
     },
     "execution_count": 19,
     "metadata": {},
     "output_type": "execute_result"
    }
   ],
   "source": [
    "has_special_chars_gradeName = check_special_chars_in_column(df, 'gradeName')\n",
    "has_special_chars_gradeName\n"
   ]
  },
  {
   "cell_type": "code",
   "execution_count": 20,
   "metadata": {},
   "outputs": [
    {
     "data": {
      "text/plain": [
       "array(['Country', 'Region', 'OPEC/non-OPEC', 'World'], dtype=object)"
      ]
     },
     "execution_count": 20,
     "metadata": {},
     "output_type": "execute_result"
    }
   ],
   "source": [
    "df['originTypeName'].unique()"
   ]
  }
 ],
 "metadata": {
  "kernelspec": {
   "display_name": "venv",
   "language": "python",
   "name": "python3"
  },
  "language_info": {
   "codemirror_mode": {
    "name": "ipython",
    "version": 3
   },
   "file_extension": ".py",
   "mimetype": "text/x-python",
   "name": "python",
   "nbconvert_exporter": "python",
   "pygments_lexer": "ipython3",
   "version": "3.10.8"
  }
 },
 "nbformat": 4,
 "nbformat_minor": 2
}
